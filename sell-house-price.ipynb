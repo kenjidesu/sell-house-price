{
 "cells": [
  {
   "cell_type": "code",
   "execution_count": 1,
   "id": "505863b7",
   "metadata": {},
   "outputs": [],
   "source": [
    "import numpy as np\n",
    "import pandas as pd\n",
    "from sklearn.metrics import mean_squared_error\n",
    "from sklearn.preprocessing import StandardScaler"
   ]
  },
  {
   "cell_type": "code",
   "execution_count": 2,
   "id": "09be11ef",
   "metadata": {},
   "outputs": [],
   "source": [
    "# Load Data\n",
    "data = pd.read_csv('data2.txt', header=None)\n",
    "\n",
    "X = data.iloc[:, 0:2]\n",
    "y = data.iloc[:, [2]]\n",
    "m = len(y)"
   ]
  },
  {
   "cell_type": "code",
   "execution_count": 3,
   "id": "3c878355",
   "metadata": {},
   "outputs": [
    {
     "data": {
      "text/html": [
       "<div>\n",
       "<style scoped>\n",
       "    .dataframe tbody tr th:only-of-type {\n",
       "        vertical-align: middle;\n",
       "    }\n",
       "\n",
       "    .dataframe tbody tr th {\n",
       "        vertical-align: top;\n",
       "    }\n",
       "\n",
       "    .dataframe thead th {\n",
       "        text-align: right;\n",
       "    }\n",
       "</style>\n",
       "<table border=\"1\" class=\"dataframe\">\n",
       "  <thead>\n",
       "    <tr style=\"text-align: right;\">\n",
       "      <th></th>\n",
       "      <th>0</th>\n",
       "      <th>1</th>\n",
       "    </tr>\n",
       "  </thead>\n",
       "  <tbody>\n",
       "    <tr>\n",
       "      <th>0</th>\n",
       "      <td>2104</td>\n",
       "      <td>3</td>\n",
       "    </tr>\n",
       "    <tr>\n",
       "      <th>1</th>\n",
       "      <td>1600</td>\n",
       "      <td>3</td>\n",
       "    </tr>\n",
       "    <tr>\n",
       "      <th>2</th>\n",
       "      <td>2400</td>\n",
       "      <td>3</td>\n",
       "    </tr>\n",
       "    <tr>\n",
       "      <th>3</th>\n",
       "      <td>1416</td>\n",
       "      <td>2</td>\n",
       "    </tr>\n",
       "    <tr>\n",
       "      <th>4</th>\n",
       "      <td>3000</td>\n",
       "      <td>4</td>\n",
       "    </tr>\n",
       "  </tbody>\n",
       "</table>\n",
       "</div>"
      ],
      "text/plain": [
       "      0  1\n",
       "0  2104  3\n",
       "1  1600  3\n",
       "2  2400  3\n",
       "3  1416  2\n",
       "4  3000  4"
      ]
     },
     "execution_count": 3,
     "metadata": {},
     "output_type": "execute_result"
    }
   ],
   "source": [
    "X.head()"
   ]
  },
  {
   "cell_type": "code",
   "execution_count": 4,
   "id": "044f32ae",
   "metadata": {},
   "outputs": [
    {
     "data": {
      "text/html": [
       "<div>\n",
       "<style scoped>\n",
       "    .dataframe tbody tr th:only-of-type {\n",
       "        vertical-align: middle;\n",
       "    }\n",
       "\n",
       "    .dataframe tbody tr th {\n",
       "        vertical-align: top;\n",
       "    }\n",
       "\n",
       "    .dataframe thead th {\n",
       "        text-align: right;\n",
       "    }\n",
       "</style>\n",
       "<table border=\"1\" class=\"dataframe\">\n",
       "  <thead>\n",
       "    <tr style=\"text-align: right;\">\n",
       "      <th></th>\n",
       "      <th>2</th>\n",
       "    </tr>\n",
       "  </thead>\n",
       "  <tbody>\n",
       "    <tr>\n",
       "      <th>0</th>\n",
       "      <td>399900</td>\n",
       "    </tr>\n",
       "    <tr>\n",
       "      <th>1</th>\n",
       "      <td>329900</td>\n",
       "    </tr>\n",
       "    <tr>\n",
       "      <th>2</th>\n",
       "      <td>369000</td>\n",
       "    </tr>\n",
       "    <tr>\n",
       "      <th>3</th>\n",
       "      <td>232000</td>\n",
       "    </tr>\n",
       "    <tr>\n",
       "      <th>4</th>\n",
       "      <td>539900</td>\n",
       "    </tr>\n",
       "  </tbody>\n",
       "</table>\n",
       "</div>"
      ],
      "text/plain": [
       "        2\n",
       "0  399900\n",
       "1  329900\n",
       "2  369000\n",
       "3  232000\n",
       "4  539900"
      ]
     },
     "execution_count": 4,
     "metadata": {},
     "output_type": "execute_result"
    }
   ],
   "source": [
    "y.head()"
   ]
  },
  {
   "cell_type": "code",
   "execution_count": 5,
   "id": "63ae9582",
   "metadata": {},
   "outputs": [],
   "source": [
    "# Feature Normalize\n",
    "scaler = StandardScaler()\n",
    "X_norm = scaler.fit_transform(X)\n",
    "\n",
    "# Add bias term\n",
    "X_norm_b = np.c_[np.ones((m, 1)), X_norm]"
   ]
  },
  {
   "cell_type": "code",
   "execution_count": 6,
   "id": "d70aa0ce",
   "metadata": {},
   "outputs": [],
   "source": [
    "# Gradient Descent\n",
    "def gradientDescent(X, y, theta, alpha, iterations):\n",
    "    for i in range(iterations):\n",
    "        prediction = X.dot(theta)\n",
    "        theta = theta - alpha * (1/m) * (X.T.dot((prediction - y)))\n",
    "    \n",
    "    return theta"
   ]
  },
  {
   "cell_type": "code",
   "execution_count": 7,
   "id": "904b2bbe",
   "metadata": {},
   "outputs": [
    {
     "name": "stdout",
     "output_type": "stream",
     "text": [
      "Theta computed from Gradient Descent:\n",
      "\tTheta_0: 340412.65957446786\n",
      "\tTheta_1: 109447.79558638527\n",
      "\tTheta_2: -6578.353970904724\n"
     ]
    }
   ],
   "source": [
    "# Initialize alpha, theta, iteration and run Gradient Descent to get the best theta\n",
    "alpha = 0.1\n",
    "n_iterations = 400\n",
    "zero_theta = np.zeros((3, 1))\n",
    "theta_best = gradientDescent(X_norm_b, y, zero_theta, alpha, n_iterations)\n",
    "\n",
    "print(\"Theta computed from Gradient Descent:\\n\\tTheta_0: {}\\n\\tTheta_1: {}\\n\\tTheta_2: {}\"\n",
    "      .format(theta_best[0][0], theta_best[1][0], theta_best[2][0]))"
   ]
  },
  {
   "cell_type": "code",
   "execution_count": 8,
   "id": "12450a4c",
   "metadata": {},
   "outputs": [
    {
     "name": "stdout",
     "output_type": "stream",
     "text": [
      "Predicted price of a 1650sq-ft with 3 bedrooms house (using gradient descent):\n",
      "\t293081.4645291686\n"
     ]
    }
   ],
   "source": [
    "# Predict the price of a 1650sq-ft with 3 bedrooms house\n",
    "pred_val = np.array([[1650, 3]])\n",
    "\n",
    "# Normalize the features\n",
    "pred_val_norm = scaler.transform(pred_val)\n",
    "\n",
    "# Add bias term\n",
    "pred_val_norm_b = np.c_[1, pred_val_norm]\n",
    "\n",
    "# Predict using the value of theta obtained\n",
    "prediction = pred_val_norm_b.dot(theta_best)\n",
    "\n",
    "print(\"Predicted price of a 1650sq-ft with 3 bedrooms house (using gradient descent):\\n\\t{}\".format(prediction[0][0])) "
   ]
  },
  {
   "cell_type": "code",
   "execution_count": 9,
   "id": "afe3618a",
   "metadata": {},
   "outputs": [
    {
     "name": "stdout",
     "output_type": "stream",
     "text": [
      "Theta computed from Normal Equation:\n",
      "\tTheta_0: 89597.90954279543\n",
      "\tTheta_1: 139.21067401762562\n",
      "\tTheta_2: -8738.01911232782\n"
     ]
    }
   ],
   "source": [
    "# Add bias term\n",
    "X_b = np.c_[np.ones((m, 1)), X]\n",
    "\n",
    "# Normal Equation\n",
    "neq_theta_best = np.linalg.inv(X_b.T.dot(X_b)).dot(X_b.T).dot(y)\n",
    "\n",
    "print(\"Theta computed from Normal Equation:\\n\\tTheta_0: {}\\n\\tTheta_1: {}\\n\\tTheta_2: {}\"\n",
    "      .format(neq_theta_best[0][0], neq_theta_best[1][0], neq_theta_best[2][0]))"
   ]
  },
  {
   "cell_type": "code",
   "execution_count": 10,
   "id": "d9ff6a9a",
   "metadata": {},
   "outputs": [
    {
     "name": "stdout",
     "output_type": "stream",
     "text": [
      "Predicted price of a 1650sq-ft with 3 bedrooms house (using normal equation):\n",
      "\t293081.46433489426\n"
     ]
    }
   ],
   "source": [
    "# Predict the price of a 1650sq-ft with 3 bedrooms house\n",
    "neq_pred_val = np.array([[1650, 3]])\n",
    "\n",
    "# Add bias term\n",
    "neq_pred_val_b = np.c_[1, neq_pred_val]\n",
    "\n",
    "# Predict\n",
    "neq_prediction = neq_pred_val_b.dot(neq_theta_best)\n",
    "\n",
    "print(\"Predicted price of a 1650sq-ft with 3 bedrooms house (using normal equation):\\n\\t{}\".format(neq_prediction[0][0])) "
   ]
  }
 ],
 "metadata": {
  "kernelspec": {
   "display_name": "Python 3 (ipykernel)",
   "language": "python",
   "name": "python3"
  },
  "language_info": {
   "codemirror_mode": {
    "name": "ipython",
    "version": 3
   },
   "file_extension": ".py",
   "mimetype": "text/x-python",
   "name": "python",
   "nbconvert_exporter": "python",
   "pygments_lexer": "ipython3",
   "version": "3.9.7"
  }
 },
 "nbformat": 4,
 "nbformat_minor": 5
}
